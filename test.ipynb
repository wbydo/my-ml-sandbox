{
 "cells": [
  {
   "cell_type": "markdown",
   "metadata": {},
   "source": [
    "2018/05/01\n",
    "\n",
    "打ち合わせ資料\n",
    "\n",
    "櫻岡響\n",
    "\n",
    "# 列番号からの文字列推定実験\n",
    "## RDBの使用により以下が実現\n",
    "- sentenceをid指定で呼び出し\n",
    "- 言語モデルとsentenceがidで紐付いている\n",
    "- 生成した言語モデルにチェックサムが付いているので、後から再現可能（現状バイナリで保存しているので16進数文字列に変更予定）"
   ]
  },
  {
   "cell_type": "markdown",
   "metadata": {},
   "source": [
    "# 準備"
   ]
  },
  {
   "cell_type": "code",
   "execution_count": 1,
   "metadata": {
    "collapsed": true
   },
   "outputs": [],
   "source": [
    "from functools import reduce\n",
    "from sklearn.model_selection import train_test_split\n",
    "\n",
    "from anakin.lang_model.lang_model import LangModel\n",
    "\n",
    "from anakin.lang_model_file_factory import LangModelFileFactory\n",
    "from anakin.db.session import database, engine_and_session\n",
    "from anakin.db.model import Base, Sentence\n",
    "\n",
    "from anakin.util.word import Word\n",
    "from anakin.util.estimate import estimate\n",
    "from anakin.util.key_to_word import KeyToWord\n",
    "from anakin.util.dp_matching import DPMatching\n",
    "\n",
    "from env import LOCAL"
   ]
  },
  {
   "cell_type": "code",
   "execution_count": 2,
   "metadata": {
    "collapsed": true
   },
   "outputs": [],
   "source": [
    "import warnings\n",
    "warnings.filterwarnings('ignore')"
   ]
  },
  {
   "cell_type": "code",
   "execution_count": 3,
   "metadata": {},
   "outputs": [],
   "source": [
    "db = database(**LOCAL)\n",
    "ENGINE, Session = engine_and_session(db, echo=False)\n",
    "Base.prepare(ENGINE, reflect=True)\n",
    "\n",
    "lmff = LangModelFileFactory(db, echo=False)"
   ]
  },
  {
   "cell_type": "code",
   "execution_count": 4,
   "metadata": {
    "collapsed": true
   },
   "outputs": [],
   "source": [
    "def id_to_vocab(Session, id_list):\n",
    "    session = Session()\n",
    "    query = session.query(Sentence).filter(Sentence.id.in_(id_list))\n",
    "    \n",
    "    result = set()\n",
    "    for sentence in query:\n",
    "        con = sentence.contents\n",
    "        words = Word.from_sentence(con)\n",
    "        result = result | set(words)\n",
    "        \n",
    "    session.close()\n",
    "    return KeyToWord(result)"
   ]
  },
  {
   "cell_type": "code",
   "execution_count": 5,
   "metadata": {
    "collapsed": true
   },
   "outputs": [],
   "source": [
    "def id_to_lm(lang_model_file_factory, id_list, order):\n",
    "    lmff = lang_model_file_factory\n",
    "    lmf = lmff.get_lang_model_file(id_list, order)\n",
    "    arpa = lmf.contents.decode()\n",
    "    return lmf.checksum, LangModel(arpa)"
   ]
  },
  {
   "cell_type": "markdown",
   "metadata": {},
   "source": [
    "# 全SentenceのID取得"
   ]
  },
  {
   "cell_type": "code",
   "execution_count": 6,
   "metadata": {
    "collapsed": true,
    "scrolled": false
   },
   "outputs": [],
   "source": [
    "session = Session()\n",
    "all_id = [s[0] for s in session.query(Sentence.id)]"
   ]
  },
  {
   "cell_type": "markdown",
   "metadata": {},
   "source": [
    "# 実験条件"
   ]
  },
  {
   "cell_type": "code",
   "execution_count": 7,
   "metadata": {
    "collapsed": true
   },
   "outputs": [],
   "source": [
    "order = 3\n",
    "test_num = 30\n",
    "seed = 12345678"
   ]
  },
  {
   "cell_type": "markdown",
   "metadata": {},
   "source": [
    "# 実験条件をもとにトレーニングデータとテストデータに分ける"
   ]
  },
  {
   "cell_type": "code",
   "execution_count": 8,
   "metadata": {},
   "outputs": [
    {
     "data": {
      "text/plain": [
       "1000"
      ]
     },
     "execution_count": 8,
     "metadata": {},
     "output_type": "execute_result"
    }
   ],
   "source": [
    "size = len(all_id)\n",
    "size"
   ]
  },
  {
   "cell_type": "code",
   "execution_count": 9,
   "metadata": {
    "collapsed": true
   },
   "outputs": [],
   "source": [
    "train, test = train_test_split(all_id, test_size=test_num/size, random_state=seed)\n",
    "\n",
    "close_train_id = all_id\n",
    "open_train_id = train"
   ]
  },
  {
   "cell_type": "markdown",
   "metadata": {},
   "source": [
    "# テストセットのイテレーション例"
   ]
  },
  {
   "cell_type": "code",
   "execution_count": 10,
   "metadata": {
    "scrolled": false
   },
   "outputs": [
    {
     "name": "stdout",
     "output_type": "stream",
     "text": [
      "<Sentence(id=40, contents='フロント/フロント の/ノ 対応/タイオウ が/ガ 良く/ヨク 感じ/カンジ が/ガ 良かっ/ヨカッ た/タ です/デス')\n",
      "<Sentence(id=41, contents='部屋/ヘヤ は/ハ 普通/フツウ です/デス が/ガ 清潔/セイケツ 感/カン が/ガ あり/アリ まずまず/マズマズ です/デス')\n",
      "<Sentence(id=165, contents='が/ガ 第/ダイ 一/イチ な/ナ ので/ノデ 朝/アサ ズボン/ズボン の/ノ プレス/プレス が/ガ でき/デキ ない/ナイ のに/ノニ 困る/コマル')\n",
      "<Sentence(id=167, contents='この/コノ 全/ゼン 室/シツ ズボンプレッサー/ズボンプレッサー 付き/ツキ は/ハ 大変/タイヘン 良い/ヨイ')\n",
      "<Sentence(id=210, contents='かかわら/カカワラ ず/ズ')\n",
      "<Sentence(id=234, contents='使い/ツカイ やすい/ヤスイ ホテル/ホテル だっ/ダッ た/タ と/ト 言っ/イッ て/テ まし/マシ た/タ')\n",
      "<Sentence(id=236, contents='弟/オトウト の/ノ 教育/キョウイク 実習/ジッシュウ の/ノ ため/タメ 予約/ヨヤク し/シ た/タ 兄/アニ です/デス')\n",
      "<Sentence(id=321, contents='<num> 月/ツキ <num> 日/ニチ 一/イチ 泊/ハク し/シ まし/マシ た/タ')\n",
      "<Sentence(id=351, contents='きれい/キレイ な/ナ ホテル/ホテル で/デ 心斎橋/シンサイバシ に/ニ 近い/チカイ という/トイウ 条件/ジョウケン を/ヲ 考え/カンガエ たら/タラ かなり/カナリ リーズナブル/リーズナブル な/ナ 利用/リヨウ 料金/リョウキン と/ト 思え/オモエ ます/マス')\n",
      "<Sentence(id=406, contents='たまたま/タマタマ 駅/エキ 側/ガワ の/ノ 部屋/ヘヤ だっ/ダッ た/タ ので/ノデ 電車/デンシャ の/ノ 発着/ハッチャク の/ノ 音/オト が/ガ すこし/スコシ 気/キ に/ニ なり/ナリ まし/マシ た/タ')\n",
      "<Sentence(id=415, contents='の/ノ 対応/タイオウ も/モ 良く/ヨク 志/ココロザシ の/ノ 高い/タカイ ホテル/ホテル という/トイウ 印象/インショウ を/ヲ 受け/ウケ まし/マシ た/タ')\n",
      "<Sentence(id=448, contents='友人/ユウジン たち/タチ も/モ とっても/トッテモ 喜ん/ヨロコン で/デ くれ/クレ て/テ すご/スゴ っ/ッ く/ク 良かっ/ヨカッ た/タ です/デス')\n",
      "<Sentence(id=552, contents='部屋/ヘヤ は/ハ 広く/ヒロク ない/ナイ の/ノ です/デス が/ガ バス/バス ルーム/ルーム の/ノ 備品/ビヒン 類/ルイ が/ガ 充実/ジュウジツ し/シ て/テ いる/イル の/ノ は/ハ 好感/コウカン が/ガ 持て/モテ ます/マス')\n",
      "<Sentence(id=561, contents='部屋/ヘヤ の/ノ 場所/バショ に/ニ も/モ より/ヨリ ます/マス が/ガ 夜景/ヤケイ は/ハ 最高/サイコウ')\n",
      "<Sentence(id=568, contents='でも/デモ 総じて/ソウジテ 満足/マンゾク です/デス')\n",
      "<Sentence(id=586, contents='蒲田/カマタ 付近/フキン は/ハ 仕事/シゴト に/ニ も/モ 便利/ベンリ な/ナ ので/ノデ また/マタ 利用/リヨウ し/シ ます/マス')\n",
      "<Sentence(id=597, contents='の/ノ 寝間着/ネマキ を/ヲ 用意/ヨウイ し/シ て/テ いっ/イッ た/タ ほう/ホウ が/ガ よ/ヨ さ/サ そう/ソウ')\n",
      "<Sentence(id=678, contents='札幌/サッポロ の/ノ 同/ドウ クラス/クラス の/ノ ホテル/ホテル で/デ は/ハ 平均/ヘイキン 点/テン か/カ な/ナ と/ト 思う/オモウ 広/ヒロ さ/サ です/デス')\n",
      "<Sentence(id=701, contents='出口/デグチ を/ヲ 出/デ て/テ 地上/チジョウ に/ニ 出る/デル と/ト 右/ミギ 上/ジョウ の/ノ モノレール/モノレール の/ノ 高架/コウカ を/ヲ 見上げ/ミアゲ て/テ それ/ソレ に/ニ 沿っ/ソッ て/テ 道/ミチ なり/ナリ に/ニ 歩け/アルケ ば/バ 駅/エキ から/カラ <num> 分/フン で/デ 着く/ツク')\n",
      "<Sentence(id=706, contents='すすきの/ススキノ に/ニ いく/イク の/ノ は/ハ 徒歩/トホ なら/ナラ 結構/ケッコウ かかり/カカリ ます/マス')\n",
      "<Sentence(id=761, contents='割引/ワリビキ 料金/リョウキン で/デ 利用/リヨウ 出来/デキ た/タ ため/タメ 私/ワタシ が/ガ ガイドブック/ガイドブック で/デ 調べ/シラベ て/テ い/イ た/タ 蒲田/カマタ 駅/エキ 周辺/シュウヘン の/ノ ホテル/ホテル の/ノ 中/ナカ で/デ は/ハ 一番/イチバン お/オ 得/トク だっ/ダッ た/タ と/ト 思い/オモイ ます/マス')\n",
      "<Sentence(id=783, contents='ネット/ネット 環境/カンキョウ について/ニツイテ')\n",
      "<Sentence(id=785, contents='一応/イチオウ チェッカー/チェッカー で/デ 確認/カクニン し/シ て/テ から/カラ つなぎ/ツナギ まし/マシ た/タ')\n",
      "<Sentence(id=792, contents='最上階/サイジョウカイ の/ノ 和食/ワショク も/モ とても/トテモ 美味しく/オイシク 窓側/マドガワ の/ノ 三角/サンカク の/ノ テーブル/テーブル は/ハ <num> 人/ニン で/デ 利用/リヨウ し/シ て/テ も/モ 違和感/イワカン が/ガ なく/ナク 会席/カイセキ を/ヲ 楽しめ/タノシメ ます/マス')\n",
      "<Sentence(id=859, contents='部屋/ヘヤ によって/ニヨッテ は/ハ 目/メ の/ノ 前/マエ に/ニ 尾道/オノミチ 水道/スイドウ が/ガ 見/ミ 下ろせ/オロセ ます/マス')\n",
      "<Sentence(id=876, contents='和歌山/ワカヤマ に/ニ ホテル/ホテル が/ガ 登録/トウロク さ/サ れ/レ て/テ い/イ ませ/マセ ん/ン が/ガ 関空/カンクウ 近辺/キンペン から/カラ なら/ナラ 十/ジュウ 分/フン 行ける/イケル 距離/キョリ だ/ダ と/ト 思い/オモイ ます/マス')\n",
      "<Sentence(id=886, contents='他/タ の/ノ 法華/ホッケ 倶楽部/クラブ の/ノ 建物/タテモノ と/ト 比べる/クラベル と/ト 少し/スコシ 狭く/セマク 古/フル さ/サ も/モ 隠せ/カクセ ませ/マセ ん/ン が/ガ')\n",
      "<Sentence(id=930, contents='福井/フクイ に/ニ き/キ た/タ 時/トキ は/ハ また/マタ 泊まり/トマリ ます/マス')\n",
      "<Sentence(id=979, contents='駅/エキ から/カラ も/モ すぐ/スグ で/デ コンビニ/コンビニ も/モ 近く/チカク とても/トテモ 便利/ベンリ です/デス')\n",
      "<Sentence(id=988, contents='但し/タダシ うち/ウチ <num> カ所/カショ は/ハ 自由/ジユウ スペース/スペース')\n"
     ]
    }
   ],
   "source": [
    "# session.queryの使用例\n",
    "# idがtestに含まれるSentenceをイテレート\n",
    "session = Session()\n",
    "query = session.query(Sentence).filter(Sentence.id.in_(test))\n",
    "\n",
    "for sentence in query:\n",
    "    print(sentence)\n",
    "    \n",
    "session.close()"
   ]
  },
  {
   "cell_type": "markdown",
   "metadata": {},
   "source": [
    "# クローズドテスト"
   ]
  },
  {
   "cell_type": "code",
   "execution_count": 11,
   "metadata": {
    "scrolled": false
   },
   "outputs": [
    {
     "name": "stdout",
     "output_type": "stream",
     "text": [
      "b'\\x97\\xb6[\\x82\\x8e\\xce\\xa8\\x17\\x14\\x8a-\\x92wH\\x9cO\\xed\\xc6\\x11\\xb7'\n",
      "\n",
      "フロント / の / 対応 / が / 良く / 感じ / が / 良かっ / た / です\n",
      "フロント / の / 対応 / が / 良く / 感じ / が / 良かっ / た / です\n",
      "Score(perfect=10, yomi=0, miss=0, ignore=False)\n",
      "\n",
      "部屋 / は / 普通 / です / が / 清潔 / 感 / が / あり / まずまず / です\n",
      "部屋 / は / 普通 / です / が / 清潔 / 感 / が / あり / まずまず / です\n",
      "Score(perfect=11, yomi=0, miss=0, ignore=False)\n",
      "\n",
      "が / 第 / 一 / な / ので / 朝 / ズボン / の / プレス / が / でき / ない / のに / 困る\n",
      "が / 第 / 一 / な / ので / 朝 / ズボン / の / プレス / が / 出来 / ない / のに / 困る\n",
      "Score(perfect=13, yomi=1, miss=0, ignore=False)\n",
      "\n",
      "この / 全 / 室 / ズボンプレッサー / 付き / は / 大変 / 良い\n",
      "この / 全 / 室 / ズボンプレッサー / 付き / は / 大変 / 良い\n",
      "Score(perfect=8, yomi=0, miss=0, ignore=False)\n",
      "\n",
      "かかわら / ず\n",
      "かかわら / ず\n",
      "Score(perfect=2, yomi=0, miss=0, ignore=False)\n",
      "\n",
      "使い / やすい / ホテル / だっ / た / と / 言っ / て / まし / た\n",
      "使い / やすい / ホテル / だっ / た / と / 言っ / て / まし / た\n",
      "Score(perfect=10, yomi=0, miss=0, ignore=False)\n",
      "\n",
      "弟 / の / 教育 / 実習 / の / ため / 予約 / し / た / 兄 / です\n",
      "弟 / の / 教育 / 実習 / の / ため / 予約 / し / た / 兄 / です\n",
      "Score(perfect=11, yomi=0, miss=0, ignore=False)\n",
      "\n",
      "<num> / 月 / <num> / 日 / 一 / 泊 / し / まし / た\n",
      "<num> / 月 / <num> / 日 / 一 / 泊 / し / まし / た\n",
      "Score(perfect=9, yomi=0, miss=0, ignore=False)\n",
      "\n",
      "きれい / な / ホテル / で / 心斎橋 / に / 近い / という / 条件 / を / 考え / たら / かなり / リーズナブル / な / 利用 / 料金 / と / 思え / ます\n",
      "きれい / な / ホテル / で / 心斎橋 / に / 近い / という / 条件 / を / 考え / たら / かなり / リーズナブル / な / 利用 / 料金 / と / 思い / ます\n",
      "Score(perfect=19, yomi=0, miss=0, ignore=False)\n",
      "\n",
      "たまたま / 駅 / 側 / の / 部屋 / だっ / た / ので / 電車 / の / 発着 / の / 音 / が / すこし / 気 / に / なり / まし / た\n",
      "たまたま / 駅 / 側 / の / 部屋 / だっ / た / ので / 電車 / の / 発着 / の / 音 / が / すこし / 気 / に / なり / まし / た\n",
      "Score(perfect=20, yomi=0, miss=0, ignore=False)\n",
      "\n",
      "の / 対応 / も / 良く / 志 / の / 高い / ホテル / という / 印象 / を / 受け / まし / た\n",
      "の / 対応 / も / 良く / 志 / 日航 / ホテル / という / 印象 / を / 受け / まし / た\n",
      "Score(perfect=12, yomi=0, miss=-1, ignore=False)\n",
      "\n",
      "友人 / たち / も / とっても / 喜ん / で / くれ / て / すご / っ / く / 良かっ / た / です\n",
      "友人 / たち / も / とっても / 喜ん / で / 借り / て / すご / っ / く / 良かっ / た / です\n",
      "Score(perfect=13, yomi=0, miss=0, ignore=False)\n",
      "\n",
      "部屋 / は / 広く / ない / の / です / が / バス / ルーム / の / 備品 / 類 / が / 充実 / し / て / いる / の / は / 好感 / が / 持て / ます\n",
      "部屋 / は / 広く / ない / の / です / が / バス / ルーム / の / 備品 / 類 / が / 充実 / し / て / いる / に / は / 好感 / が / 持て / ます\n",
      "Score(perfect=22, yomi=0, miss=0, ignore=False)\n",
      "\n",
      "部屋 / の / 場所 / に / も / より / ます / が / 夜景 / は / 最高\n",
      "部屋 / の / 場所 / に / も / より / ます / が / 夜景 / は / 最高\n",
      "Score(perfect=11, yomi=0, miss=0, ignore=False)\n",
      "\n",
      "でも / 総じて / 満足 / です\n",
      "でも / 総じて / 満足 / です\n",
      "Score(perfect=4, yomi=0, miss=0, ignore=False)\n",
      "\n",
      "蒲田 / 付近 / は / 仕事 / に / も / 便利 / な / ので / また / 利用 / し / ます\n",
      "蒲田 / 付近 / は / 仕事 / に / も / 便利 / な / ので / また / 利用 / し / ます\n",
      "Score(perfect=13, yomi=0, miss=0, ignore=False)\n",
      "\n",
      "の / 寝間着 / を / 用意 / し / て / いっ / た / ほう / が / よ / さ / そう\n",
      "に / 寝間着 / を / 用意 / し / て / いっ / た / ほう / が / 良 / さ / そう\n",
      "Score(perfect=11, yomi=1, miss=0, ignore=False)\n",
      "\n",
      "札幌 / の / 同 / クラス / の / ホテル / で / は / 平均 / 点 / か / な / と / 思う / 広 / さ / です\n",
      "札幌 / の / 同 / クラス / の / ホテル / で / は / 平均 / 点 / か / な / と / 思う / 広 / さ / です\n",
      "Score(perfect=17, yomi=0, miss=0, ignore=False)\n",
      "\n",
      "出口 / を / 出 / て / 地上 / に / 出る / と / 右 / 上 / の / モノレール / の / 高架 / を / 見上げ / て / それ / に / 沿っ / て / 道 / なり / に / 歩け / ば / 駅 / から / <num> / 分 / で / 着く\n",
      "出口 / を / 出 / て / 地上 / に / 出る / と / 右 / 上 / の / モノレール / の / 高架 / を / 見上げ / て / さらに / し / とても / 隣 / に / 歩け / ば / 駅 / から / <num> / 分 / で / 着く\n",
      "Score(perfect=26, yomi=0, miss=-2, ignore=False)\n",
      "\n",
      "すすきの / に / いく / の / は / 徒歩 / なら / 結構 / かかり / ます\n",
      "すすきの / に / 行く / の / は / 徒歩 / なら / 結構 / かかり / ます\n",
      "Score(perfect=9, yomi=1, miss=0, ignore=False)\n",
      "\n",
      "割引 / 料金 / で / 利用 / 出来 / た / ため / 私 / が / ガイドブック / で / 調べ / て / い / た / 蒲田 / 駅 / 周辺 / の / ホテル / の / 中 / で / は / 一番 / お / 得 / だっ / た / と / 思い / ます\n",
      "割引 / 料金 / で / 利用 / でき / た / ため / 私 / が / ガイドブック / で / 調べ / て / い / た / 蒲田 / 駅 / 周辺 / の / ホテル / の / 中 / で / は / 一番 / お / 得 / だっ / た / と / 思い / ます\n",
      "Score(perfect=31, yomi=1, miss=0, ignore=False)\n",
      "\n",
      "ネット / 環境 / について\n",
      "ネット / 環境 / について\n",
      "Score(perfect=3, yomi=0, miss=0, ignore=False)\n",
      "\n",
      "一応 / チェッカー / で / 確認 / し / て / から / つなぎ / まし / た\n",
      "一応 / チェッカー / で / 確認 / し / て / から / つなぎ / まし / た\n",
      "Score(perfect=10, yomi=0, miss=0, ignore=False)\n",
      "\n",
      "最上階 / の / 和食 / も / とても / 美味しく / 窓側 / の / 三角 / の / テーブル / は / <num> / 人 / で / 利用 / し / て / も / 違和感 / が / なく / 会席 / を / 楽しめ / ます\n",
      "最上階 / の / 和食 / も / とても / 美味しく / 窓側 / の / 三角 / の / テーブル / は / <num> / 人 / で / 利用 / し / て / も / 違和感 / が / なく / 会席 / を / 楽しめ / ます\n",
      "Score(perfect=26, yomi=0, miss=0, ignore=False)\n",
      "\n",
      "部屋 / によって / は / 目 / の / 前 / に / 尾道 / 水道 / が / 見 / 下ろせ / ます\n",
      "部屋 / によって / は / も / の / 前 / に / 尾道 / 水道 / が / 見 / 下ろせ / ます\n",
      "Score(perfect=12, yomi=0, miss=0, ignore=False)\n",
      "\n",
      "和歌山 / に / ホテル / が / 登録 / さ / れ / て / い / ませ / ん / が / 関空 / 近辺 / から / なら / 十 / 分 / 行ける / 距離 / だ / と / 思い / ます\n",
      "和歌山 / に / ホテル / が / 登録 / さ / れ / て / い / ませ / ん / が / 関空 / 近辺 / から / なら / 十 / 分 / 行ける / 距離 / だ / と / 思い / ます\n",
      "Score(perfect=24, yomi=0, miss=0, ignore=False)\n",
      "\n",
      "他 / の / 法華 / 倶楽部 / の / 建物 / と / 比べる / と / 少し / 狭く / 古 / さ / も / 隠せ / ませ / ん / が\n",
      "他 / の / 法華 / 倶楽部 / の / 建物 / と / 比べる / と / 少し / 狭く / 古 / さ / も / 隠せ / ませ / ん / が\n",
      "Score(perfect=18, yomi=0, miss=0, ignore=False)\n",
      "\n",
      "福井 / に / き / た / 時 / は / また / 泊まり / ます\n",
      "福井 / なかっ / た / が / は / また / 泊まり / まし\n",
      "Score(perfect=5, yomi=0, miss=-1, ignore=False)\n",
      "\n",
      "駅 / から / も / すぐ / で / コンビニ / も / 近く / とても / 便利 / です\n",
      "駅 / から / も / 式 / で / コンビニ / も / 近く / とても / 便利 / です\n",
      "Score(perfect=10, yomi=0, miss=0, ignore=False)\n",
      "\n",
      "但し / うち / <num> / カ所 / は / 自由 / スペース\n",
      "但し / うち / <num> / カ所 / は / 自由 / スペース\n",
      "Score(perfect=7, yomi=0, miss=0, ignore=False)\n",
      "\n"
     ]
    }
   ],
   "source": [
    "close_train_vocab = id_to_vocab(Session, close_train_id)\n",
    "checksum, close_train_lm = id_to_lm(lmff, close_train_id, order)\n",
    "\n",
    "session = Session()\n",
    "query = session.query(Sentence).filter(Sentence.id.in_(test))\n",
    "\n",
    "print(checksum)\n",
    "print()\n",
    "\n",
    "for sentence in query:\n",
    "    ref = Word.from_sentence(sentence.contents)\n",
    "    print(' / '.join([w.surface for w in ref]))\n",
    "    est = estimate(ref, close_train_vocab, close_train_lm, order)\n",
    "    print(' / '.join([w.surface for w in est]))\n",
    "    dpm = DPMatching(ref, est)\n",
    "    print(dpm.score)\n",
    "    print()\n",
    "session.close()"
   ]
  },
  {
   "cell_type": "markdown",
   "metadata": {},
   "source": [
    "# オープンテスト"
   ]
  },
  {
   "cell_type": "code",
   "execution_count": 12,
   "metadata": {
    "scrolled": false
   },
   "outputs": [
    {
     "name": "stdout",
     "output_type": "stream",
     "text": [
      "b\"\\xc493@j\\xbe6E\\xa0\\xac\\x97!'\\x9d*\\xb8\\t\\xc4\\t\\xbd\"\n",
      "\n",
      "フロント / の / 対応 / が / 良く / 感じ / が / 良かっ / た / です\n",
      "フロント / の / 対応 / が / 良く / 感じ / が / 良かっ / た / です\n",
      "Score(perfect=10, yomi=0, miss=0, ignore=False)\n",
      "\n",
      "部屋 / は / 普通 / です / が / 清潔 / 感 / が / あり / まずまず / です\n",
      "部屋 / は / ビデオ / です / が / 清潔 / 感 / が / あり / ます / ます / です\n",
      "Score(perfect=9, yomi=0, miss=-1, ignore=False)\n",
      "\n",
      "が / 第 / 一 / な / ので / 朝 / ズボン / の / プレス / が / でき / ない / のに / 困る\n",
      "こと / アウト / な / ので / 味 / 至便 / 上り / 坂 / でき / ない / の / の / 困り\n",
      "Score(perfect=4, yomi=0, miss=-2, ignore=False)\n",
      "\n",
      "この / 全 / 室 / ズボンプレッサー / 付き / は / 大変 / 良い\n",
      "金沢 / 市 / で / ズボン・プレッサー / とき / は / 大変 / 良い\n",
      "Score(perfect=3, yomi=1, miss=0, ignore=False)\n",
      "\n",
      "かかわら / ず\n",
      "かかわら / ず\n",
      "Score(perfect=2, yomi=0, miss=0, ignore=False)\n",
      "\n",
      "使い / やすい / ホテル / だっ / た / と / 言っ / て / まし / た\n",
      "近い / 安い / ホテル / で / とっ / て / あっ / た / まし / た\n",
      "Score(perfect=3, yomi=1, miss=0, ignore=False)\n",
      "\n",
      "弟 / の / 教育 / 実習 / の / ため / 予約 / し / た / 兄 / です\n",
      "弟 / の / 教育 / 実習 / の / ため / 予約 / し / たい / の / です\n",
      "Score(perfect=9, yomi=0, miss=0, ignore=False)\n",
      "\n",
      "<num> / 月 / <num> / 日 / 一 / 泊 / し / まし / た\n",
      "<num> / 月 / <num> / 日 / 一泊 / し / まし / た\n",
      "Score(perfect=7, yomi=0, miss=-1, ignore=False)\n",
      "\n",
      "きれい / な / ホテル / で / 心斎橋 / に / 近い / という / 条件 / を / 考え / たら / かなり / リーズナブル / な / 利用 / 料金 / と / 思え / ます\n",
      "きれい / な / ホテル / で / 心斎橋 / など / 交通 / 以上 / 券 / を / 関係 / たら / かなり / リーズナブル / な / 利用 / 料金 / と / 思い / ます\n",
      "Score(perfect=14, yomi=0, miss=0, ignore=False)\n",
      "\n",
      "たまたま / 駅 / 側 / の / 部屋 / だっ / た / ので / 電車 / の / 発着 / の / 音 / が / すこし / 気 / に / なり / まし / た\n",
      "たまたま / 駅 / 側 / の / 部屋 / だっ / た / ので / 電車 / の / 一つ / 良く / の / 音 / が / そこそこ / に / なり / まし / た\n",
      "Score(perfect=17, yomi=0, miss=-2, ignore=False)\n",
      "\n",
      "の / 対応 / も / 良く / 志 / の / 高い / ホテル / という / 印象 / を / 受け / まし / た\n",
      "に / 対応 / も / 良く / かかる / させ / 日航 / ホテル / という / 印象 / を / あげ / まし / た\n",
      "Score(perfect=9, yomi=0, miss=0, ignore=False)\n",
      "\n",
      "友人 / たち / も / とっても / 喜ん / で / くれ / て / すご / っ / く / 良かっ / た / です\n",
      "有線 / とても / とっても / 喜ん / ところ / でし / こと / が / 良かっ / た / です\n",
      "Score(perfect=5, yomi=0, miss=-2, ignore=False)\n",
      "\n",
      "部屋 / は / 広く / ない / の / です / が / バス / ルーム / の / 備品 / 類 / が / 充実 / し / て / いる / の / は / 好感 / が / 持て / ます\n",
      "部屋 / は / 広く / ない / の / です / が / バス / ルーム / の / 備品 / 廊下 / 充実 / し / て / いる / に / は / 好感 / 蒲田 / ます\n",
      "Score(perfect=18, yomi=0, miss=-2, ignore=False)\n",
      "\n",
      "部屋 / の / 場所 / に / も / より / ます / が / 夜景 / は / 最高\n",
      "部屋 / の / 場所 / に / も / より / ます / が / 夜景 / は / 最高\n",
      "Score(perfect=11, yomi=0, miss=0, ignore=False)\n",
      "\n",
      "でも / 総じて / 満足 / です\n",
      "でも / サイズ / で / 満足 / です\n",
      "Score(perfect=3, yomi=0, miss=-1, ignore=False)\n",
      "\n",
      "蒲田 / 付近 / は / 仕事 / に / も / 便利 / な / ので / また / 利用 / し / ます\n",
      "蒲田 / 付近 / は / 仕事 / に / も / 便利 / な / ので / また / 利用 / し / ます\n",
      "Score(perfect=13, yomi=0, miss=0, ignore=False)\n",
      "\n",
      "の / 寝間着 / を / 用意 / し / て / いっ / た / ほう / が / よ / さ / そう\n",
      "何 / も / が / を / 用意 / し / て / あっ / た / ほう / が / 良 / さ / そう\n",
      "Score(perfect=9, yomi=1, miss=0, ignore=False)\n",
      "\n",
      "札幌 / の / 同 / クラス / の / ホテル / で / は / 平均 / 点 / か / な / と / 思う / 広 / さ / です\n",
      "札幌 / ので / お / クラス / の / ホテル / で / は / 平均 / 電気 / の / と / 思い / 広 / さ / です\n",
      "Score(perfect=11, yomi=0, miss=-1, ignore=False)\n",
      "\n",
      "出口 / を / 出 / て / 地上 / に / 出る / と / 右 / 上 / の / モノレール / の / 高架 / を / 見上げ / て / それ / に / 沿っ / て / 道 / なり / に / 歩け / ば / 駅 / から / <num> / 分 / で / 着く\n",
      "使っ / 渡っ / でしょ / う / ので / れ / て / 昔 / よう / に / モノレール / の / 好感 / まあ / ぐっすり / に / し / とても / 隣 / に / ある / が / は / 駅 / から / <num> / 分 / で / た / が\n",
      "Score(perfect=10, yomi=0, miss=-9, ignore=False)\n",
      "\n",
      "すすきの / に / いく / の / は / 徒歩 / なら / 結構 / かかり / ます\n",
      "すすきの / に / 行く / の / ほど / 離れ / こと / が / 駅 / から / ます\n",
      "Score(perfect=4, yomi=1, miss=-1, ignore=False)\n",
      "\n",
      "割引 / 料金 / で / 利用 / 出来 / た / ため / 私 / が / ガイドブック / で / 調べ / て / い / た / 蒲田 / 駅 / 周辺 / の / ホテル / の / 中 / で / は / 一番 / お / 得 / だっ / た / と / 思い / ます\n",
      "割引 / 料金 / で / 利用 / でき / とても / ん / です / が / 返っ / 一言 / 調べ / て / い / て / 蒲田 / 駅 / 充分 / な / ホテル / の / 中 / で / は / 一番 / 扱っ / て / だ / と / 思い / ます\n",
      "Score(perfect=19, yomi=1, miss=-1, ignore=False)\n",
      "\n",
      "ネット / 環境 / について\n",
      "など / で / 環境 / について\n",
      "Score(perfect=2, yomi=0, miss=0, ignore=False)\n",
      "\n",
      "一応 / チェッカー / で / 確認 / し / て / から / つなぎ / まし / た\n",
      "あと / 応対 / 使わ / て / 確認 / し / て / くれ / た / の / が / まし / た\n",
      "Score(perfect=5, yomi=0, miss=-2, ignore=False)\n",
      "\n",
      "最上階 / の / 和食 / も / とても / 美味しく / 窓側 / の / 三角 / の / テーブル / は / <num> / 人 / で / 利用 / し / て / も / 違和感 / が / なく / 会席 / を / 楽しめ / ます\n",
      "最上階 / の / 和食 / 持っ / て / も / 美味しく / 窓際 / に / さん / が / 気 / に / 丼 / は / <num> / 人 / で / 利用 / し / て / も / 円 / 感 / が / 泣き声 / 時間 / で / 望む / ます\n",
      "Score(perfect=14, yomi=0, miss=-4, ignore=False)\n",
      "\n",
      "部屋 / によって / は / 目 / の / 前 / に / 尾道 / 水道 / が / 見 / 下ろせ / ます\n",
      "部屋 / によって / は / も / の / 前 / に / 尾道 / 騒動 / が / も / ある / し / ます\n",
      "Score(perfect=9, yomi=0, miss=-1, ignore=False)\n",
      "\n",
      "和歌山 / に / ホテル / が / 登録 / さ / れ / て / い / ませ / ん / が / 関空 / 近辺 / から / なら / 十 / 分 / 行ける / 距離 / だ / と / 思い / ます\n",
      "和歌山 / の / ホテル / が / 登録 / さ / れ / て / い / ませ / ん / が / 関空 / コーヒー / から / なら / 十 / 分 / 行ける / 距離 / だ / と / 思い / ます\n",
      "Score(perfect=22, yomi=0, miss=0, ignore=False)\n",
      "\n",
      "他 / の / 法華 / 倶楽部 / の / 建物 / と / 比べる / と / 少し / 狭く / 古 / さ / も / 隠せ / ませ / ん / が\n",
      "て / の / 法華 / クラブ / に / 建物 / で / 比べる / です / が / 勧め / が / 広島 / ここ / し / ませ / ん / が\n",
      "Score(perfect=7, yomi=1, miss=0, ignore=False)\n",
      "\n",
      "福井 / に / き / た / 時 / は / また / 泊まり / ます\n",
      "低い / なかっ / た / が / は / まで / 泊まれ / ます\n",
      "Score(perfect=3, yomi=0, miss=0, ignore=False)\n",
      "\n",
      "駅 / から / も / すぐ / で / コンビニ / も / 近く / とても / 便利 / です\n",
      "駅 / から / も / 仕事 / コンビニ / も / 近く / とても / 便利 / です\n",
      "Score(perfect=9, yomi=0, miss=-1, ignore=False)\n",
      "\n",
      "但し / うち / <num> / カ所 / は / 自由 / スペース\n",
      "ただし / い / て / <num> / が / 者 / 不自由 / スペース\n",
      "Score(perfect=2, yomi=1, miss=-1, ignore=False)\n",
      "\n"
     ]
    }
   ],
   "source": [
    "open_train_vocab = id_to_vocab(Session, open_train_id)\n",
    "checksum, open_train_lm = id_to_lm(lmff, open_train_id, order)\n",
    "\n",
    "session = Session()\n",
    "query = session.query(Sentence).filter(Sentence.id.in_(test))\n",
    "\n",
    "print(checksum)\n",
    "print()\n",
    "\n",
    "for sentence in query:\n",
    "    ref = Word.from_sentence(sentence.contents)\n",
    "    print(' / '.join([w.surface for w in ref]))\n",
    "    est = estimate(ref, open_train_vocab, open_train_lm, order)\n",
    "    print(' / '.join([w.surface for w in est]))\n",
    "    dpm = DPMatching(ref, est)\n",
    "    print(dpm.score)\n",
    "    print()\n",
    "session.close()"
   ]
  }
 ],
 "metadata": {
  "kernelspec": {
   "display_name": "Python 3",
   "language": "python",
   "name": "python3"
  },
  "language_info": {
   "codemirror_mode": {
    "name": "ipython",
    "version": 3
   },
   "file_extension": ".py",
   "mimetype": "text/x-python",
   "name": "python",
   "nbconvert_exporter": "python",
   "pygments_lexer": "ipython3",
   "version": "3.6.1"
  }
 },
 "nbformat": 4,
 "nbformat_minor": 2
}
